{
  "nbformat": 4,
  "nbformat_minor": 0,
  "metadata": {
    "colab": {
      "name": "gan_mnist_pytorch.ipynb",
      "provenance": []
    },
    "kernelspec": {
      "name": "python3",
      "display_name": "Python 3"
    },
    "language_info": {
      "name": "python"
    },
    "accelerator": "GPU"
  },
  "cells": [
    {
      "cell_type": "code",
      "execution_count": 100,
      "metadata": {
        "id": "L_NzXZbFHFVb"
      },
      "outputs": [],
      "source": [
        "import torch\n",
        "import torchvision\n",
        "import numpy as np\n",
        "import pandas as pd\n",
        "import matplotlib.pyplot as plt\n",
        "import cv2\n",
        "import torch.nn as nn\n",
        "import torch.optim as optim\n",
        "from torchvision import datasets,transforms\n",
        "import torch.nn.functional as F\n",
        "from torch.autograd import Variable\n",
        "from torch.utils.data.sampler import SubsetRandomSampler"
      ]
    },
    {
      "cell_type": "code",
      "source": [
        "!nvidia-smi"
      ],
      "metadata": {
        "colab": {
          "base_uri": "https://localhost:8080/"
        },
        "id": "EhAWbTXSHPfO",
        "outputId": "c6688fb4-2793-4258-d322-493ef60e4551"
      },
      "execution_count": 101,
      "outputs": [
        {
          "output_type": "stream",
          "name": "stdout",
          "text": [
            "Sat Feb 19 13:54:10 2022       \n",
            "+-----------------------------------------------------------------------------+\n",
            "| NVIDIA-SMI 460.32.03    Driver Version: 460.32.03    CUDA Version: 11.2     |\n",
            "|-------------------------------+----------------------+----------------------+\n",
            "| GPU  Name        Persistence-M| Bus-Id        Disp.A | Volatile Uncorr. ECC |\n",
            "| Fan  Temp  Perf  Pwr:Usage/Cap|         Memory-Usage | GPU-Util  Compute M. |\n",
            "|                               |                      |               MIG M. |\n",
            "|===============================+======================+======================|\n",
            "|   0  Tesla K80           Off  | 00000000:00:04.0 Off |                    0 |\n",
            "| N/A   72C    P0    72W / 149W |    658MiB / 11441MiB |      0%      Default |\n",
            "|                               |                      |                  N/A |\n",
            "+-------------------------------+----------------------+----------------------+\n",
            "                                                                               \n",
            "+-----------------------------------------------------------------------------+\n",
            "| Processes:                                                                  |\n",
            "|  GPU   GI   CI        PID   Type   Process name                  GPU Memory |\n",
            "|        ID   ID                                                   Usage      |\n",
            "|=============================================================================|\n",
            "+-----------------------------------------------------------------------------+\n"
          ]
        }
      ]
    },
    {
      "cell_type": "code",
      "source": [
        "torch.manual_seed(2022)"
      ],
      "metadata": {
        "colab": {
          "base_uri": "https://localhost:8080/"
        },
        "id": "AErTHRNJIp8-",
        "outputId": "6df49765-44cc-408b-e45d-a4c8e03be0ce"
      },
      "execution_count": 102,
      "outputs": [
        {
          "output_type": "execute_result",
          "data": {
            "text/plain": [
              "<torch._C.Generator at 0x7fe003f29090>"
            ]
          },
          "metadata": {},
          "execution_count": 102
        }
      ]
    },
    {
      "cell_type": "code",
      "source": [
        "device = torch.device('cuda' if torch.cuda.is_available() else 'cpu')"
      ],
      "metadata": {
        "id": "kWr15bRBJDUv"
      },
      "execution_count": 103,
      "outputs": []
    },
    {
      "cell_type": "code",
      "source": [
        "print(device)"
      ],
      "metadata": {
        "colab": {
          "base_uri": "https://localhost:8080/"
        },
        "id": "raWroUgULIry",
        "outputId": "604776cd-b9c5-4fd1-f42b-8b31dfcbeb24"
      },
      "execution_count": 104,
      "outputs": [
        {
          "output_type": "stream",
          "name": "stdout",
          "text": [
            "cuda\n"
          ]
        }
      ]
    },
    {
      "cell_type": "code",
      "source": [
        "# Preparing MNIST Dataset\n",
        "batch_size = 128\n",
        "\n",
        "transform = transforms.Compose([transforms.ToTensor(),\n",
        "                                transforms.Normalize(mean=(0.5,),std=(0.5,))])\n",
        "trainset = datasets.MNIST('~/.pytorch/MNIST_data',download = True,transform=transform,train=True)\n",
        "testset = datasets.MNIST('~/.pytorch/MNIST_data',download = True,transform=transform,train=False)\n",
        "\n",
        "trainloader = torch.utils.data.DataLoader(dataset = trainset,shuffle=True,batch_size = batch_size)\n",
        "testloader = torch.utils.data.DataLoader(dataset = testset,shuffle=False,batch_size = batch_size)"
      ],
      "metadata": {
        "id": "9LXRV9-mLKar"
      },
      "execution_count": 105,
      "outputs": []
    },
    {
      "cell_type": "code",
      "source": [
        "print(len(trainloader),len(testloader))"
      ],
      "metadata": {
        "colab": {
          "base_uri": "https://localhost:8080/"
        },
        "id": "Spd4EkEFRPbI",
        "outputId": "a5d29661-29e8-43f3-abfc-7933f0e6dc40"
      },
      "execution_count": 106,
      "outputs": [
        {
          "output_type": "stream",
          "name": "stdout",
          "text": [
            "469 79\n"
          ]
        }
      ]
    },
    {
      "cell_type": "code",
      "source": [
        "mnist_dim = trainset.data.size(1)*trainset.data.size(2)\n",
        "print(mnist_dim)"
      ],
      "metadata": {
        "colab": {
          "base_uri": "https://localhost:8080/"
        },
        "id": "xIcrjzn2LxiH",
        "outputId": "e0c6db3b-ec6e-45e4-8f59-7b0785c5f974"
      },
      "execution_count": 107,
      "outputs": [
        {
          "output_type": "stream",
          "name": "stdout",
          "text": [
            "784\n"
          ]
        }
      ]
    },
    {
      "cell_type": "code",
      "source": [
        "dataiter = iter(trainloader)\n",
        "images,labels = dataiter.next()\n",
        "print(images[0].shape)\n",
        "fig = plt.figure(figsize = (15,5))\n",
        "for idx in range(20):\n",
        "  ax = fig.add_subplot(4, 5, idx+1, xticks=[], yticks=[])\n",
        "  ax.imshow(np.squeeze(images[idx]), cmap='gray')\n",
        "  ax.set_title(labels[idx].item())\n",
        "  fig.tight_layout()"
      ],
      "metadata": {
        "colab": {
          "base_uri": "https://localhost:8080/",
          "height": 386
        },
        "id": "8HAxNF3BS0yx",
        "outputId": "7d4823a6-e3d2-4901-a4ed-cc98f0ddc77e"
      },
      "execution_count": 108,
      "outputs": [
        {
          "output_type": "stream",
          "name": "stdout",
          "text": [
            "torch.Size([1, 28, 28])\n"
          ]
        },
        {
          "output_type": "display_data",
          "data": {
            "image/png": "[encoded data removed]",
            "text/plain": [
              "<Figure size 1080x360 with 20 Axes>"
            ]
          },
          "metadata": {}
        }
      ]
    },
    {
      "cell_type": "code",
      "source": [
        "# Generator\n",
        "class Generator(nn.Module):\n",
        "  def __init__(self):\n",
        "    super(Generator,self).__init__()\n",
        "    self.fc1 = nn.Linear(100,7*7*256)\n",
        "    self.upsample1 = nn.ConvTranspose2d(256,128,kernel_size=(5,5),stride=(1,1),padding=(2,2))\n",
        "    self.upsample2 = nn.ConvTranspose2d(128,64,kernel_size=(5,5),stride=(2,2),padding=(2,2))\n",
        "    self.upsample3 = nn.ConvTranspose2d(64,1,kernel_size=(4,4),stride=(2,2))\n",
        "    self.bn1 = torch.nn.BatchNorm1d(7*7*256)\n",
        "    self.bn2 = torch.nn.BatchNorm2d(128)\n",
        "    self.bn3 = torch.nn.BatchNorm2d(64)\n",
        "    self.dropout = nn.Dropout(0.3)\n",
        "  def forward(self,x):\n",
        "    bs = x.shape[0]\n",
        "    x  = self.fc1(x)\n",
        "    x = self.bn1(x)\n",
        "    x = F.leaky_relu(x)\n",
        "    # x = self.dropout(x)\n",
        "    x = torch.reshape(x,(bs,256,7,7))\n",
        "    x = self.upsample1(x)\n",
        "    x = self.bn2(x)\n",
        "    x = F.leaky_relu(x)\n",
        "    # x = self.dropout(x)\n",
        "    x = self.upsample2(x)\n",
        "    x = self.bn3(x)\n",
        "    x = F.leaky_relu(x)\n",
        "    # x = self.dropout(x)\n",
        "    x = self.upsample3(x)\n",
        "    return x\n",
        "  \n",
        "#Discrimator\n",
        "class Discriminator(nn.Module):\n",
        "  def __init__(self):\n",
        "    super(Discriminator,self).__init__()\n",
        "    self.conv1  = nn.Conv2d(1,64,kernel_size=(5,5),stride=(2,2),padding = (2,2))\n",
        "    self.conv2 = nn.Conv2d(64,128,kernel_size=(5,5),stride=(2,2),padding=(2,2))\n",
        "    self.dropout = nn.Dropout(0.3)\n",
        "    self.fc1 = nn.Linear(6272,1)\n",
        "  def forward(self,x):\n",
        "    x = self.conv1(x)\n",
        "    x = F.leaky_relu(x)\n",
        "    x = self.dropout(x)\n",
        "    x = self.conv2(x)\n",
        "    x = F.leaky_relu(x)\n",
        "    x = self.dropout(x)\n",
        "    x = torch.flatten(x,start_dim = 1 )\n",
        "    x = self.fc1(x)\n",
        "    return torch.sigmoid(x)"
      ],
      "metadata": {
        "id": "hhMxe0jiR9n1"
      },
      "execution_count": 110,
      "outputs": []
    },
    {
      "cell_type": "code",
      "source": [
        "generator = Generator()\n",
        "generator.to(device)"
      ],
      "metadata": {
        "colab": {
          "base_uri": "https://localhost:8080/"
        },
        "id": "Rx5iuUhbtyDR",
        "outputId": "4e206766-cf98-406c-999b-50e3353954ad"
      },
      "execution_count": 111,
      "outputs": [
        {
          "output_type": "execute_result",
          "data": {
            "text/plain": [
              "Generator(\n",
              "  (fc1): Linear(in_features=100, out_features=12544, bias=True)\n",
              "  (upsample1): ConvTranspose2d(256, 128, kernel_size=(5, 5), stride=(1, 1), padding=(2, 2))\n",
              "  (upsample2): ConvTranspose2d(128, 64, kernel_size=(5, 5), stride=(2, 2), padding=(2, 2))\n",
              "  (upsample3): ConvTranspose2d(64, 1, kernel_size=(4, 4), stride=(2, 2))\n",
              "  (bn1): BatchNorm1d(12544, eps=1e-05, momentum=0.1, affine=True, track_running_stats=True)\n",
              "  (bn2): BatchNorm2d(128, eps=1e-05, momentum=0.1, affine=True, track_running_stats=True)\n",
              "  (bn3): BatchNorm2d(64, eps=1e-05, momentum=0.1, affine=True, track_running_stats=True)\n",
              "  (dropout): Dropout(p=0.3, inplace=False)\n",
              ")"
            ]
          },
          "metadata": {},
          "execution_count": 111
        }
      ]
    },
    {
      "cell_type": "code",
      "source": [
        "z = torch.normal(mean = 0, std = 1,size=(1,100)).to(device)\n",
        "generator.eval()\n",
        "print(z.shape)\n",
        "op = generator.forward(z).detach()\n",
        "print(op.shape)"
      ],
      "metadata": {
        "colab": {
          "base_uri": "https://localhost:8080/"
        },
        "id": "PozCkv3Dt11K",
        "outputId": "7bc9afe7-e4b5-48f4-ad10-4c0d900aa125"
      },
      "execution_count": 112,
      "outputs": [
        {
          "output_type": "stream",
          "name": "stdout",
          "text": [
            "torch.Size([1, 100])\n",
            "torch.Size([1, 1, 28, 28])\n"
          ]
        }
      ]
    },
    {
      "cell_type": "code",
      "source": [
        "plt.imshow(op.to('cpu')[0, 0, :, :], cmap='gray')"
      ],
      "metadata": {
        "colab": {
          "base_uri": "https://localhost:8080/",
          "height": 282
        },
        "id": "HdAgtMSr4w9T",
        "outputId": "10de58bd-4c59-43da-acf7-c5d0898320e6"
      },
      "execution_count": 113,
      "outputs": [
        {
          "output_type": "execute_result",
          "data": {
            "text/plain": [
              "<matplotlib.image.AxesImage at 0x7fdfddf0d310>"
            ]
          },
          "metadata": {},
          "execution_count": 113
        },
        {
          "output_type": "display_data",
          "data": {
            "image/png": "[encoded data removed]",
            "text/plain": [
              "<Figure size 432x288 with 1 Axes>"
            ]
          },
          "metadata": {
            "needs_background": "light"
          }
        }
      ]
    },
    {
      "cell_type": "code",
      "source": [
        "discrim = Discriminator()\n",
        "discrim.to(device)"
      ],
      "metadata": {
        "colab": {
          "base_uri": "https://localhost:8080/"
        },
        "id": "8LyBc3EM9epI",
        "outputId": "739118f1-3fc4-4066-a87f-8db8cc36f2dc"
      },
      "execution_count": 114,
      "outputs": [
        {
          "output_type": "execute_result",
          "data": {
            "text/plain": [
              "Discriminator(\n",
              "  (conv1): Conv2d(1, 64, kernel_size=(5, 5), stride=(2, 2), padding=(2, 2))\n",
              "  (conv2): Conv2d(64, 128, kernel_size=(5, 5), stride=(2, 2), padding=(2, 2))\n",
              "  (dropout): Dropout(p=0.3, inplace=False)\n",
              "  (fc1): Linear(in_features=6272, out_features=1, bias=True)\n",
              ")"
            ]
          },
          "metadata": {},
          "execution_count": 114
        }
      ]
    },
    {
      "cell_type": "code",
      "source": [
        "img = images[0]\n",
        "print(img.shape)\n",
        "discrim.eval()\n",
        "op = discrim.forward(img.to(device).reshape(1,1,28,28))\n",
        "print(op)"
      ],
      "metadata": {
        "colab": {
          "base_uri": "https://localhost:8080/"
        },
        "id": "0lBmAf-d9hVt",
        "outputId": "a04bdbaa-7d91-4206-8286-ed6ebae32777"
      },
      "execution_count": 115,
      "outputs": [
        {
          "output_type": "stream",
          "name": "stdout",
          "text": [
            "torch.Size([1, 28, 28])\n",
            "tensor([[0.5073]], device='cuda:0', grad_fn=<SigmoidBackward0>)\n"
          ]
        }
      ]
    },
    {
      "cell_type": "code",
      "source": [
        "criterion = nn.BCELoss().to(device)"
      ],
      "metadata": {
        "id": "VoEcEgaY_NXL"
      },
      "execution_count": 116,
      "outputs": []
    },
    {
      "cell_type": "code",
      "source": [
        "g_optim = optim.Adam(generator.parameters(),lr = 0.0002)\n",
        "d_optim = optim.Adam(discrim.parameters(),lr = 0.0002)"
      ],
      "metadata": {
        "id": "SNUVkLO2_VUz"
      },
      "execution_count": 117,
      "outputs": []
    },
    {
      "cell_type": "code",
      "source": [
        "def generator_loss(fake_output):\n",
        "  return criterion(fake_output,torch.ones_like(fake_output))\n",
        "\n",
        "\n",
        "def discriminator_loss(real_output,fake_output):\n",
        "  real_loss = criterion(real_output,torch.ones_like(real_output))\n",
        "  fake_loss = criterion(fake_output,torch.zeros_like(fake_output))\n",
        "  return (real_loss+fake_loss)"
      ],
      "metadata": {
        "id": "Ic_AbcD_ABdo"
      },
      "execution_count": 125,
      "outputs": []
    },
    {
      "cell_type": "code",
      "source": [
        "def D_train(x):\n",
        "    d_optim.zero_grad()\n",
        "    discrim.train()\n",
        "    generator.eval()\n",
        "    bs = x.shape[0]\n",
        "    x_real, y_real = x, torch.ones(bs, 1)\n",
        "    x_real, y_real = Variable(x_real.to(device)), Variable(y_real.to(device))\n",
        "    D_output = discrim(x_real)\n",
        "    D_real_loss = criterion(D_output, y_real)\n",
        "    D_real_score = D_output\n",
        "    z = Variable(torch.randn(bs, 100).to(device))\n",
        "    x_fake, y_fake = generator(z), Variable(torch.zeros(bs, 1).to(device))\n",
        "    D_output = discrim(x_fake)\n",
        "    D_fake_loss = criterion(D_output, y_fake)\n",
        "    D_fake_score = D_output\n",
        "    D_loss = D_real_loss + D_fake_loss\n",
        "    loss = D_loss\n",
        "    D_loss.backward()\n",
        "    d_optim.step()\n",
        "    return  loss.item()\n",
        "\n",
        "def G_train(x):\n",
        "    g_optim.zero_grad()\n",
        "    generator.train()\n",
        "    discrim.eval()\n",
        "    bs = x.shape[0]\n",
        "    z = Variable(torch.randn(bs, 100).to(device))\n",
        "    y = Variable(torch.ones(bs, 1).to(device))\n",
        "    G_output = generator(z)\n",
        "    D_output = discrim(G_output)\n",
        "    G_loss = criterion(D_output, y)\n",
        "    loss = G_loss\n",
        "    G_loss.backward()\n",
        "    g_optim.step()\n",
        "    return G_loss.item()"
      ],
      "metadata": {
        "id": "0X4oAFLKUDdI"
      },
      "execution_count": 126,
      "outputs": []
    },
    {
      "cell_type": "code",
      "source": [
        "n_epoch = 75\n",
        "d_loss = []\n",
        "g_loss = []\n",
        "k=1\n",
        "for epoch in range(1, n_epoch+1):\n",
        "    discrim.train()\n",
        "    generator.train()         \n",
        "    D_losses, G_losses = [], []\n",
        "    for batch_idx, (x, _) in enumerate(trainloader):\n",
        "      for rep in range(k):\n",
        "        D_losses.append(D_train(x))\n",
        "      G_losses.append(G_train(x))\n",
        "    d_loss.append(torch.mean(torch.FloatTensor(D_losses)))\n",
        "    g_loss.append(torch.mean(torch.FloatTensor(G_losses)))\n",
        "    print('[%d/%d]: loss_d: %.3f, loss_g: %.3f' % (\n",
        "            (epoch), n_epoch, torch.mean(torch.FloatTensor(D_losses)), torch.mean(torch.FloatTensor(G_losses))))"
      ],
      "metadata": {
        "colab": {
          "base_uri": "https://localhost:8080/"
        },
        "id": "EsN_BW1KE98O",
        "outputId": "c2dc4f59-8b55-4924-9646-9535b7a22194"
      },
      "execution_count": 128,
      "outputs": [
        {
          "output_type": "stream",
          "name": "stdout",
          "text": [
            "[1/75]: loss_d: 0.066, loss_g: 5.531\n",
            "[2/75]: loss_d: 0.088, loss_g: 5.037\n",
            "[3/75]: loss_d: 0.098, loss_g: 4.837\n",
            "[4/75]: loss_d: 0.118, loss_g: 4.452\n",
            "[5/75]: loss_d: 0.125, loss_g: 4.197\n",
            "[6/75]: loss_d: 0.128, loss_g: 4.055\n",
            "[7/75]: loss_d: 0.148, loss_g: 3.863\n",
            "[8/75]: loss_d: 0.143, loss_g: 3.786\n",
            "[9/75]: loss_d: 0.160, loss_g: 3.706\n",
            "[10/75]: loss_d: 0.156, loss_g: 3.674\n",
            "[11/75]: loss_d: 0.164, loss_g: 3.624\n",
            "[12/75]: loss_d: 0.170, loss_g: 3.591\n",
            "[13/75]: loss_d: 0.170, loss_g: 3.551\n",
            "[14/75]: loss_d: 0.180, loss_g: 3.384\n",
            "[15/75]: loss_d: 0.188, loss_g: 3.448\n",
            "[16/75]: loss_d: 0.178, loss_g: 3.513\n",
            "[17/75]: loss_d: 0.184, loss_g: 3.377\n",
            "[18/75]: loss_d: 0.189, loss_g: 3.454\n",
            "[19/75]: loss_d: 0.192, loss_g: 3.346\n",
            "[20/75]: loss_d: 0.187, loss_g: 3.394\n",
            "[21/75]: loss_d: 0.197, loss_g: 3.355\n",
            "[22/75]: loss_d: 0.181, loss_g: 3.414\n",
            "[23/75]: loss_d: 0.192, loss_g: 3.291\n",
            "[24/75]: loss_d: 0.192, loss_g: 3.316\n",
            "[25/75]: loss_d: 0.195, loss_g: 3.357\n",
            "[26/75]: loss_d: 0.191, loss_g: 3.286\n",
            "[27/75]: loss_d: 0.186, loss_g: 3.328\n",
            "[28/75]: loss_d: 0.193, loss_g: 3.352\n",
            "[29/75]: loss_d: 0.198, loss_g: 3.267\n",
            "[30/75]: loss_d: 0.211, loss_g: 3.191\n",
            "[31/75]: loss_d: 0.207, loss_g: 3.190\n",
            "[32/75]: loss_d: 0.211, loss_g: 3.121\n",
            "[33/75]: loss_d: 0.203, loss_g: 3.157\n",
            "[34/75]: loss_d: 0.209, loss_g: 3.127\n",
            "[35/75]: loss_d: 0.214, loss_g: 3.028\n",
            "[36/75]: loss_d: 0.217, loss_g: 3.040\n",
            "[37/75]: loss_d: 0.206, loss_g: 3.055\n",
            "[38/75]: loss_d: 0.216, loss_g: 3.068\n",
            "[39/75]: loss_d: 0.215, loss_g: 2.982\n",
            "[40/75]: loss_d: 0.225, loss_g: 2.955\n",
            "[41/75]: loss_d: 0.223, loss_g: 3.016\n",
            "[42/75]: loss_d: 0.223, loss_g: 2.958\n",
            "[43/75]: loss_d: 0.227, loss_g: 2.911\n",
            "[44/75]: loss_d: 0.229, loss_g: 2.950\n",
            "[45/75]: loss_d: 0.227, loss_g: 2.913\n",
            "[46/75]: loss_d: 0.226, loss_g: 2.915\n",
            "[47/75]: loss_d: 0.218, loss_g: 2.866\n",
            "[48/75]: loss_d: 0.226, loss_g: 2.932\n",
            "[49/75]: loss_d: 0.231, loss_g: 2.878\n",
            "[50/75]: loss_d: 0.227, loss_g: 2.926\n",
            "[51/75]: loss_d: 0.226, loss_g: 2.854\n",
            "[52/75]: loss_d: 0.236, loss_g: 2.894\n",
            "[53/75]: loss_d: 0.233, loss_g: 2.781\n",
            "[54/75]: loss_d: 0.230, loss_g: 2.878\n",
            "[55/75]: loss_d: 0.231, loss_g: 2.812\n",
            "[56/75]: loss_d: 0.232, loss_g: 2.801\n",
            "[57/75]: loss_d: 0.227, loss_g: 2.753\n",
            "[58/75]: loss_d: 0.238, loss_g: 2.831\n",
            "[59/75]: loss_d: 0.239, loss_g: 2.871\n",
            "[60/75]: loss_d: 0.231, loss_g: 2.830\n",
            "[61/75]: loss_d: 0.237, loss_g: 2.706\n",
            "[62/75]: loss_d: 0.235, loss_g: 2.819\n",
            "[63/75]: loss_d: 0.237, loss_g: 2.781\n",
            "[64/75]: loss_d: 0.235, loss_g: 2.788\n",
            "[65/75]: loss_d: 0.229, loss_g: 2.787\n",
            "[66/75]: loss_d: 0.249, loss_g: 2.722\n",
            "[67/75]: loss_d: 0.238, loss_g: 2.804\n",
            "[68/75]: loss_d: 0.226, loss_g: 2.791\n",
            "[69/75]: loss_d: 0.232, loss_g: 2.765\n",
            "[70/75]: loss_d: 0.237, loss_g: 2.797\n",
            "[71/75]: loss_d: 0.239, loss_g: 2.802\n",
            "[72/75]: loss_d: 0.235, loss_g: 2.784\n",
            "[73/75]: loss_d: 0.238, loss_g: 2.687\n",
            "[74/75]: loss_d: 0.252, loss_g: 2.752\n",
            "[75/75]: loss_d: 0.233, loss_g: 2.740\n"
          ]
        }
      ]
    },
    {
      "cell_type": "code",
      "source": [
        "generator.eval()\n",
        "with torch.no_grad():\n",
        "  test_z = Variable(torch.randn(5, 100).to(device))\n",
        "  gz = generator(test_z)\n",
        "  print(\"Some Images generated by the generator:\")\n",
        "  for image in gz:\n",
        "    plt.imshow(image.to('cpu')[0, :, :], cmap='gray')\n",
        "    plt.show()"
      ],
      "metadata": {
        "colab": {
          "base_uri": "https://localhost:8080/",
          "height": 1000
        },
        "id": "FTolyUO7YBBK",
        "outputId": "bc441154-03f3-476b-c113-ed26725e80aa"
      },
      "execution_count": 156,
      "outputs": [
        {
          "output_type": "stream",
          "name": "stdout",
          "text": [
            "Some Images generated by the generator:\n"
          ]
        },
        {
          "output_type": "display_data",
          "data": {
            "image/png": "[encoded data removed]",
            "text/plain": [
              "<Figure size 432x288 with 1 Axes>"
            ]
          },
          "metadata": {
            "needs_background": "light"
          }
        },
        {
          "output_type": "display_data",
          "data": {
            "image/png": "[encoded data removed]",
            "text/plain": [
              "<Figure size 432x288 with 1 Axes>"
            ]
          },
          "metadata": {
            "needs_background": "light"
          }
        },
        {
          "output_type": "display_data",
          "data": {
            "image/png": "[encoded data removed]",
            "text/plain": [
              "<Figure size 432x288 with 1 Axes>"
            ]
          },
          "metadata": {
            "needs_background": "light"
          }
        },
        {
          "output_type": "display_data",
          "data": {
            "image/png": "[encoded data removed]",
            "text/plain": [
              "<Figure size 432x288 with 1 Axes>"
            ]
          },
          "metadata": {
            "needs_background": "light"
          }
        },
        {
          "output_type": "display_data",
          "data": {
            "image/png": "[encoded data removed]",
            "text/plain": [
              "<Figure size 432x288 with 1 Axes>"
            ]
          },
          "metadata": {
            "needs_background": "light"
          }
        }
      ]
    }
  ]
}